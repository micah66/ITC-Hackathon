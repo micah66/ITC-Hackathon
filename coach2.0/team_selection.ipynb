{
 "cells": [
  {
   "cell_type": "code",
   "execution_count": 1,
   "metadata": {},
   "outputs": [],
   "source": [
    "import csv\n",
    "import sqlite3\n",
    "import os\n",
    "import numpy as np\n",
    "import pandas as pd\n",
    "from collections import Counter\n",
    "FILENAME = r\"C:\\Users\\leohe\\PycharmProjects\\ITC\\Hackathon\\database.sqlite\""
   ]
  },
  {
   "cell_type": "code",
   "execution_count": 10,
   "metadata": {},
   "outputs": [],
   "source": [
    "def perfomance_index(player_name, readiness):\n",
    "#     print(player_name)\n",
    "    pos_dict = {'goal_keeper' : 0,\n",
    "                'attacker_left' : 1,\n",
    "                'attacker_middle' : 2,\n",
    "                'attacker_right' : 3,\n",
    "                'midfield_left' : 4,\n",
    "                'midfield_middle' : 5,\n",
    "                'midfield_right' : 6,\n",
    "                'defender_left' : 7,\n",
    "                'defender_middle' : 8,\n",
    "                'defender_right' : 9}\n",
    "    \n",
    "    metricsTable = \"coef_updated.csv\"\n",
    "    with open(metricsTable) as f:\n",
    "        reader = csv.reader(f)\n",
    "        metricsList = [r for r in reader]\n",
    "    relevantMetricsNames = metricsList[0][1:]\n",
    "#     print(relevantMetricsNames)\n",
    "    floatMetricsList = [[float(perc) for perc in playerMetrics[1:]] for\n",
    "                        playerMetrics in metricsList[1:]]\n",
    "\n",
    "    query_data = \",\".join(['AVG({})'.format(el) for el in relevantMetricsNames])\n",
    "\n",
    "    with sqlite3.connect(FILENAME) as con:\n",
    "        cur = con.cursor()\n",
    "        p_pos = cur.execute(\"SELECT position FROM player WHERE player_name LIKE '{}';\".format(player_name)).fetchall()\n",
    "#         print(p_pos)\n",
    "        if len(p_pos) == 0 or p_pos[0][0] is None:\n",
    "            return 'un', 0\n",
    "#         print(p_pos)\n",
    "        position = p_pos[0][0]\n",
    "#         print(position)\n",
    "        p_pos = pos_dict[p_pos[0][0]]\n",
    "        p_att = cur.execute(\"\"\"SELECT * \n",
    "                            FROM (SELECT player_api_id, \n",
    "                                  {} \n",
    "                                  FROM Player_Attributes \n",
    "                                  GROUP BY player_api_id) \n",
    "                            WHERE player_api_id = (\n",
    "                                  SELECT player_api_id \n",
    "                                  FROM player \n",
    "                                  WHERE player_name \n",
    "                                  LIKE \"{}\");\"\"\".format(query_data,\n",
    "                                                      player_name)).fetchall()\n",
    "        player_att = list(p_att[0][1:])\n",
    "#         print(len(player_att))\n",
    "        performance = readiness * (np.array(floatMetricsList[p_pos]) @ np.array(player_att))\n",
    "#         print(position)\n",
    "        return position.split(\"_\")[0], performance"
   ]
  },
  {
   "cell_type": "code",
   "execution_count": 4,
   "metadata": {},
   "outputs": [],
   "source": [
    "def get_roster(team_list, tactic, readiness_list):\n",
    "    tactic = '1-' + tactic\n",
    "#     print(tactic)\n",
    "    team = {}\n",
    "    positions = []\n",
    "    for name, ready in zip(team_list, readiness_list):\n",
    "        player_perfomance = perfomance_index(name, ready)\n",
    "#         print(player_perfomance)\n",
    "        positions += [player_perfomance[0]]\n",
    "        team[name] = player_perfomance\n",
    "#     print(Counter(positions))\n",
    "    positions = list(set(positions))\n",
    "#     print(team)\n",
    "#     print(sorted(positions))\n",
    "    p_names = sorted(team, key=team.get, reverse=True)\n",
    "    lineup = []\n",
    "    for index, pos in enumerate(tactic.split('-')):\n",
    "        if index == 0:\n",
    "            lineup += int(pos)*['goal']\n",
    "        elif index == 1:\n",
    "            lineup += int(pos)*['defender']\n",
    "        elif index == 2:\n",
    "            lineup += int(pos)*['midfield']\n",
    "        else:\n",
    "            lineup += int(pos)*['attacker']\n",
    "#     print(lineup)\n",
    "    roster_n = []\n",
    "    team_score = 0\n",
    "    for pos in lineup:\n",
    "        for names in p_names:\n",
    "            if team[names][0] == pos:\n",
    "                if names not in roster_n:\n",
    "                    roster_n += [names]\n",
    "                    team_score += team[names][1]\n",
    "                    break\n",
    "    return team_score, lineup, roster_n, team"
   ]
  },
  {
   "cell_type": "code",
   "execution_count": 5,
   "metadata": {},
   "outputs": [],
   "source": [
    "\n",
    "argentina_list = ['Sergio Romero', 'Franco Armani','Wilfredo Caballero',\n",
    "                  'Cristian Daniel Ansaldi', 'Marcos Rojo', 'Marcos Acuna', \n",
    "                  'Nicolas Tagliafico', 'Gabriel Mercado', 'Nicolas Otamendi', \n",
    "                  'Javier Mascherano', 'Federico Fazio', 'Ever Banega',\n",
    "                  'Lucas Biglia', 'Giovani Lo Celso', 'Eduardo Salvio', \n",
    "                  'Cristian Pavon', 'Maximiliano Meza', 'Angel Di Maria', \n",
    "                  'Manuel Lanzini', 'Lionel Messi', 'Paulo Dybala', 'Sergio Aguero', 'Gonzalo Higuain']\n",
    "\n",
    "germany_list = ['Manuel Neuer', 'Marc-Andre ter Stegen', 'Kevin Trapp', 'Jerome Boateng',\n",
    "                'Matthias Ginter', 'Jonas Hector', 'Mats Hummels', 'Joshua Kimmich', 'Marvin Plattenhardt',\n",
    "                'Antonio Ruediger', 'Niklas Suele', 'Julian Brandt', 'Julian Draxler', 'Leon Goretzka',\n",
    "                'Ilkay Guendogan', 'Sami Khedira', 'Toni Kroos', 'Mesut Oezil', 'Sebastian Rudy',\n",
    "                'Mario Gomez', 'Thomas Mueller', 'Marco Reus', 'Timo Werner']\n",
    "\n",
    "france_list = ['Alphonse Areola','Hugo Lloris','Steve Mandanda',\n",
    "               'Adil Rami','Raphael Varane','Presnel Kimpembe',\n",
    "               'Benjamin Mendy','Benjamin Pavard','Lucas Hernandez','Samuel Umtiti',\n",
    "               'Corentin Tolisso','Nabil Fekir',\"N'Golo Kanté\",'Blaise Matuidi',\n",
    "               'Paul Pogba','Djibril Sidibe','Thomas Lemar','Florian Thauvin',\n",
    "               \"Steven NZonzi\",'Antoine Griezmann','Olivier Giroud','Ousmane Dembele',\n",
    "               'Kylian Mbappe Lottin']\n",
    "\n",
    "barcelona = ['Marc-Andre ter Stegen', 'Gerard Pique', 'Ivan Rakitic', 'Sergio Busquets',\n",
    "             'Denis Suarez', 'Arda Turan', 'Andres Iniesta', 'Luis Suarez', 'Lionel Messi',\n",
    "             'Neymar', 'Rafinha Alcantra', 'Jasper Cillessen', 'Javier Mascherano', \n",
    "             'Francisco Alcacer', 'Jordi Alba', 'Lucas Digne', 'Andre Gomes', 'Aleix Vidal',\n",
    "             'Samuel Umtiti', 'Jeremy Mathieu', 'Jordi Masip']"
   ]
  },
  {
   "cell_type": "code",
   "execution_count": 14,
   "metadata": {},
   "outputs": [
    {
     "name": "stdout",
     "output_type": "stream",
     "text": [
      "Team Score:\t842.4095749652935\n",
      "goal\tMarc-Andre ter Stegen\n",
      "defender\tGerard Pique\n",
      "defender\tJeremy Mathieu\n",
      "defender\tJordi Alba\n",
      "defender\tSamuel Umtiti\n",
      "midfield\tLionel Messi\n",
      "midfield\tAndres Iniesta\n",
      "midfield\tArda Turan\n",
      "midfield\tIvan Rakitic\n",
      "attacker\tLuis Suarez\n",
      "attacker\tNeymar\n"
     ]
    }
   ],
   "source": [
    "tactic = '4-4-2'\n",
    "team_score, lineup, players_name, team = \\\n",
    "        get_roster(barcelona, tactic, np.ones(23))\n",
    "print(\"Team Score:\\t{}\".format(team_score))\n",
    "for pos, name in zip(lineup, players_name):\n",
    "    print(\"{}\\t{}\".format(pos, name))"
   ]
  },
  {
   "cell_type": "code",
   "execution_count": 45,
   "metadata": {},
   "outputs": [
    {
     "name": "stdout",
     "output_type": "stream",
     "text": [
      "('goal_keeper',)\n"
     ]
    }
   ],
   "source": [
    "with sqlite3.connect(FILENAME) as con:\n",
    "    cur = con.cursor()\n",
    "    cur.execute(\"\"\"SELECT position FROM player WHERE player_name LIKE \"sergio romero\";\"\"\")\n",
    "    res = cur.fetchall()\n",
    "    for info in res:\n",
    "        print(info)"
   ]
  }
 ],
 "metadata": {
  "kernelspec": {
   "display_name": "Python 3",
   "language": "python",
   "name": "python3"
  },
  "language_info": {
   "codemirror_mode": {
    "name": "ipython",
    "version": 3
   },
   "file_extension": ".py",
   "mimetype": "text/x-python",
   "name": "python",
   "nbconvert_exporter": "python",
   "pygments_lexer": "ipython3",
   "version": "3.6.5"
  }
 },
 "nbformat": 4,
 "nbformat_minor": 2
}
